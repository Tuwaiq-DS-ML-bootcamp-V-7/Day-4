{
 "cells": [
  {
   "cell_type": "markdown",
   "metadata": {
    "id": "E9Y5ss1ZYj3r"
   },
   "source": [
    "# Python_Lab_2.2\n"
   ]
  },
  {
   "cell_type": "markdown",
   "metadata": {
    "id": "Q1kAqc72Yj3t"
   },
   "source": [
    "### Task 1\n",
    "1. Write a program that prompts the user to enter two numbers and prints their division. Handle cases where the user enters non-numeric values or attempts to divide by zero using a try-except block.\n"
   ]
  },
  {
   "cell_type": "code",
   "execution_count": 9,
   "metadata": {
    "id": "H-xyoRTVYj3t"
   },
   "outputs": [
    {
     "name": "stdout",
     "output_type": "stream",
     "text": [
      "Enter First Number9\n",
      "Enter Second Number3\n",
      "result: 3.0\n"
     ]
    }
   ],
   "source": [
    "try:\n",
    "    num1 = float(input(\"Enter First Number\"))\n",
    "    num2 = float(input(\"Enter Second Number\"))\n",
    "    \n",
    "    result = num1 / num2\n",
    "    print(f\"result: {result}\")\n",
    "    \n",
    "\n",
    "except ValueError:\n",
    "    print(\"Use just Number\")\n",
    "except ZeroDivisionError:\n",
    "    print(\"Why you didn't study math ??\")\n"
   ]
  },
  {
   "cell_type": "markdown",
   "metadata": {
    "id": "rJkOEFAwYj3v"
   },
   "source": [
    "### Task 2\n",
    "- Use \"Random\" library to do the following:\n",
    "    1. Create a list of random numbers using list comprehension.\n",
    "    2. Create a list of squares of the even numbers from random numbers using list comprehension.\n",
    "    3. Create a list of tuples (number, square) for random numbers using list comprehension."
   ]
  },
  {
   "cell_type": "code",
   "execution_count": 31,
   "metadata": {
    "id": "Yfq-i6CeYj3u"
   },
   "outputs": [
    {
     "name": "stdout",
     "output_type": "stream",
     "text": [
      "The result is :\n",
      "[28, 25, 1, 27, 33, 60, 21, 35, 83, 71]\n",
      "[784, 3600]\n",
      "[(28, 784), (25, 625), (1, 1), (27, 729), (33, 1089), (60, 3600), (21, 441), (35, 1225), (83, 6889), (71, 5041)]\n"
     ]
    }
   ],
   "source": [
    "import random\n",
    "random_list = [random.randint(1, 100) for i in range(10)]\n",
    "\n",
    "\n",
    "even_squares = [num**2 for num in random_list if num % 2 == 0]\n",
    "\n",
    "\n",
    "list_of_tuble =[(num,num**2) for num in random_list]\n",
    "\n",
    "\n",
    "print (\"The result is :\")\n",
    "print(random_list)\n",
    "\n",
    "print(even_squares)\n",
    "\n",
    "print(list_of_tuble)"
   ]
  },
  {
   "cell_type": "markdown",
   "metadata": {
    "id": "jYdOq46NYj3u"
   },
   "source": [
    "### Task 3\n",
    "- Create a dictionary where the keys are numbers from 1 to 5 and the values are list of their squares and cubes.\n",
    "\n",
    "  - **hint**: use dictionary of list comprehension.\n",
    "\n",
    "- Create a dictionary from two lists (one with keys and one with values) using dictionary comprehension.\n",
    "\n"
   ]
  },
  {
   "cell_type": "code",
   "execution_count": 33,
   "metadata": {
    "id": "IEnsiNmCYj3u"
   },
   "outputs": [
    {
     "name": "stdout",
     "output_type": "stream",
     "text": [
      "Squares and Cubes Dictionary: {1: [1, 1], 2: [4, 8], 3: [9, 27], 4: [16, 64], 5: [25, 125]}\n",
      "Dictionary from Lists: {1: [1, 1], 2: [4, 8], 3: [9, 27], 4: [16, 64], 5: [25, 125]}\n"
     ]
    }
   ],
   "source": [
    "squares_cubes_dict = {num: [num**2, num**3] for num in range(1, 6)}\n",
    "\n",
    "keys = [1, 2, 3, 4, 5]\n",
    "values = [[1, 1], [4, 8], [9, 27], [16, 64], [25, 125]]\n",
    "dict_from_lists = {key: value for key, value in zip(keys, values)}\n",
    "\n",
    "print(\"Squares and Cubes Dictionary:\", squares_cubes_dict)\n",
    "print(\"Dictionary from Lists:\", dict_from_lists)"
   ]
  },
  {
   "cell_type": "markdown",
   "metadata": {
    "id": "6T9TCQ8SYj3v"
   },
   "source": [
    "### Task 4\n",
    "- Given a dictionary where keys are student names and values are lists of their scores, write a function that updates the scores of students who have achieved a perfect score (100) by adding a bonus of 5 points to each score. Use dictionary comprehension to achieve this.\n",
    "\n",
    "    - Implement the function add_bonus_to_perfect_scores(student_scores) that adds a bonus of 5 points to each score of students who have achieved a perfect score (100)."
   ]
  },
  {
   "cell_type": "code",
   "execution_count": 35,
   "metadata": {},
   "outputs": [
    {
     "data": {
      "text/plain": [
       "{'wed': [105, 98, 105], 'maha': [105, 70, 90], 'ruba': [90, 80, 105]}"
      ]
     },
     "execution_count": 35,
     "metadata": {},
     "output_type": "execute_result"
    }
   ],
   "source": [
    "def add_bonus(scores):\n",
    "    return {name: [score + 5 if score == 100 else score for score in scores] for name, scores in scores.items()}\n",
    "\n",
    "scores = {\n",
    "    \"wed\": [100, 98, 100],\n",
    "    \"maha\": [100, 70, 90],\n",
    "    \"ruba\": [90, 80, 100]\n",
    "}\n",
    "add_bonus(scores)"
   ]
  },
  {
   "cell_type": "code",
   "execution_count": null,
   "metadata": {},
   "outputs": [],
   "source": []
  }
 ],
 "metadata": {
  "colab": {
   "provenance": []
  },
  "kernelspec": {
   "display_name": "Python 3 (ipykernel)",
   "language": "python",
   "name": "python3"
  },
  "language_info": {
   "codemirror_mode": {
    "name": "ipython",
    "version": 3
   },
   "file_extension": ".py",
   "mimetype": "text/x-python",
   "name": "python",
   "nbconvert_exporter": "python",
   "pygments_lexer": "ipython3",
   "version": "3.11.4"
  }
 },
 "nbformat": 4,
 "nbformat_minor": 1
}
