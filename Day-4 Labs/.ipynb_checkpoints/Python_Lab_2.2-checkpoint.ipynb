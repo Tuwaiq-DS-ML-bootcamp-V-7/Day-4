{
 "cells": [
  {
   "cell_type": "markdown",
   "metadata": {
    "id": "E9Y5ss1ZYj3r"
   },
   "source": [
    "# Python_Lab_2.2\n"
   ]
  },
  {
   "cell_type": "markdown",
   "metadata": {
    "id": "Q1kAqc72Yj3t"
   },
   "source": [
    "### Task 1\n",
    "1. Write a program that prompts the user to enter two numbers and prints their division. Handle cases where the user enters non-numeric values or attempts to divide by zero using a try-except block.\n"
   ]
  },
  {
   "cell_type": "code",
   "execution_count": 11,
   "metadata": {
    "id": "H-xyoRTVYj3t"
   },
   "outputs": [
    {
     "name": "stdout",
     "output_type": "stream",
     "text": [
      "Enter two numbers to print their division\n",
      "10\n",
      "d\n",
      "Wrong input, enter again\n",
      "None\n"
     ]
    }
   ],
   "source": [
    "def division(x, y):\n",
    "    try:\n",
    "        return float(x)/float(y)\n",
    "    except:\n",
    "        print(\"Wrong input, enter again\")\n",
    "        return\n",
    "print(\"Enter two numbers to print their division\")\n",
    "print(division(input(), input()))"
   ]
  },
  {
   "cell_type": "markdown",
   "metadata": {
    "id": "CPWcDSC_Yj3u"
   },
   "source": [
    "### Task 2\n",
    "- Use \"Random\" library to do the following:\n",
    "    1. Create a list of random numbers using list comprehension.\n",
    "    2. Create a list of squares of the even numbers from random numbers using list comprehension.\n",
    "    3. Create a list of tuples (number, square) for random numbers using list comprehension."
   ]
  },
  {
   "cell_type": "code",
   "execution_count": 40,
   "metadata": {
    "id": "Yfq-i6CeYj3u"
   },
   "outputs": [
    {
     "name": "stdout",
     "output_type": "stream",
     "text": [
      "[7, 2, 2, 10, 7, 1, 8, 4, 0, 1]\n",
      "[4, 4, 100, 64, 16, 0]\n",
      "[(7, 49), (2, 4), (2, 4), (10, 100), (7, 49), (1, 1), (8, 64), (4, 16), (0, 0), (1, 1)]\n"
     ]
    }
   ],
   "source": [
    "import random\n",
    "\n",
    "rand_list = [ random.randint(0, 10) for i in range(10) ]\n",
    "print(rand_list)\n",
    "\n",
    "even_list = [i**2 for i in rand_list if i % 2 == 0]\n",
    "print(even_list)\n",
    "\n",
    "rand_sqrd = [(i, i**2) for i in rand_list]\n",
    "print(rand_sqrd)"
   ]
  },
  {
   "cell_type": "markdown",
   "metadata": {
    "id": "jYdOq46NYj3u"
   },
   "source": [
    "### Task 3\n",
    "- Create a dictionary where the keys are numbers from 1 to 5 and the values are list of their squares and cubes.\n",
    "\n",
    "  - **hint**: use dictionary of list comprehension.\n",
    "\n",
    "- Create a dictionary from two lists (one with keys and one with values) using dictionary comprehension.\n",
    "\n"
   ]
  },
  {
   "cell_type": "code",
   "execution_count": 50,
   "metadata": {
    "id": "IEnsiNmCYj3u"
   },
   "outputs": [
    {
     "name": "stdout",
     "output_type": "stream",
     "text": [
      "{1: [1, 1], 2: [4, 8], 3: [9, 27], 4: [16, 64], 5: [25, 125]}\n",
      "{'a': 4, 'b': 3, 'c': 2, 'd': 1}\n"
     ]
    }
   ],
   "source": [
    "numbers = {k : [k**2, k**3] for k in range(1,6)}\n",
    "print(numbers)\n",
    "\n",
    "list1 = [\"a\", \"b\", \"c\", \"d\"]\n",
    "list2 = [4, 3, 2, 1]\n",
    "\n",
    "dict_list = {list1[i]: list2[i] for i in range(4)}\n",
    "print(dict_list)"
   ]
  },
  {
   "cell_type": "markdown",
   "metadata": {
    "id": "6T9TCQ8SYj3v"
   },
   "source": [
    "### Task 4\n",
    "- Given a dictionary where keys are student names and values are lists of their scores, write a function that updates the scores of students who have achieved a perfect score (100) by adding a bonus of 5 points to each score. Use dictionary comprehension to achieve this.\n",
    "\n",
    "    - Implement the function add_bonus_to_perfect_scores(student_scores) that adds a bonus of 5 points to each score of students who have achieved a perfect score (100)."
   ]
  },
  {
   "cell_type": "code",
   "execution_count": 19,
   "metadata": {
    "id": "T3R_VsQpYj3v"
   },
   "outputs": [
    {
     "name": "stdout",
     "output_type": "stream",
     "text": [
      "Mohammed\n",
      "[15, 55, 85, 105]\n",
      "Dania\n",
      "[35, 105, 25, 105]\n",
      "Samer\n",
      "[19, 28, 99, 22]\n",
      "Hamad\n",
      "[2, 89, 77, 69]\n"
     ]
    }
   ],
   "source": [
    "students_scores = {\"Mohammed\" : [10, 50, 80, 100],\n",
    "                  \"Dania\": [30, 100, 20, 100],\n",
    "                  \"Samer\": [19, 28, 99, 22],\n",
    "                  \"Hamad\": [2, 89, 77, 69]}\n",
    "add_bonus_to_perfect_scores = lambda scores: {k: [i + 5 if 100 in v else i for i in v ] for k, v in scores.items()}\n",
    "for k, v in add_bonus_to_perfect_scores(students_scores).items():\n",
    "    print(k )\n",
    "    print(v)"
   ]
  },
  {
   "cell_type": "markdown",
   "metadata": {
    "id": "rJkOEFAwYj3v"
   },
   "source": []
  }
 ],
 "metadata": {
  "colab": {
   "provenance": []
  },
  "kernelspec": {
   "display_name": "Python 3 (ipykernel)",
   "language": "python",
   "name": "python3"
  },
  "language_info": {
   "codemirror_mode": {
    "name": "ipython",
    "version": 3
   },
   "file_extension": ".py",
   "mimetype": "text/x-python",
   "name": "python",
   "nbconvert_exporter": "python",
   "pygments_lexer": "ipython3",
   "version": "3.11.5"
  }
 },
 "nbformat": 4,
 "nbformat_minor": 1
}
