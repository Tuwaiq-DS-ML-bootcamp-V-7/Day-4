{
 "cells": [
  {
   "cell_type": "markdown",
   "metadata": {
    "id": "E9Y5ss1ZYj3r"
   },
   "source": [
    "# Python_Lab_2.2\n"
   ]
  },
  {
   "cell_type": "markdown",
   "metadata": {
    "id": "Q1kAqc72Yj3t"
   },
   "source": [
    "### Task 1\n",
    "1. Write a program that prompts the user to enter two numbers and prints their division. Handle cases where the user enters non-numeric values or attempts to divide by zero using a try-except block.\n"
   ]
  },
  {
   "cell_type": "code",
   "execution_count": 5,
   "metadata": {
    "id": "H-xyoRTVYj3t"
   },
   "outputs": [
    {
     "name": "stdout",
     "output_type": "stream",
     "text": [
      "Enter the first number: 1\n",
      "Enter the second number: 1\n",
      "The division of 1.0 by 1.0 is: 1.0\n"
     ]
    }
   ],
   "source": [
    "\n",
    "def get_number(prompt):\n",
    "    while True:\n",
    "        try:\n",
    "            val = float(input(prompt))  \n",
    "            return val\n",
    "        except ValueError:\n",
    "            print(\"Please enter a valid numeric value.\")\n",
    "\n",
    "num1 = get_number(\"Enter the first number: \")\n",
    "num2 = get_number(\"Enter the second number: \")\n",
    "\n",
    "try:\n",
    "    result = num1 / num2\n",
    "    print(f\"The division of {num1} by {num2} is: {result}\")\n",
    "except ZeroDivisionError:\n",
    "    print(\"Error: Division by zero is not allowed.\")\n",
    "except Exception as e:\n",
    "    print(f\"An error occurred: {e}\")"
   ]
  },
  {
   "cell_type": "markdown",
   "metadata": {
    "id": "CPWcDSC_Yj3u"
   },
   "source": [
    "### Task 2\n",
    "- Use \"Random\" library to do the following:\n",
    "    1. Create a list of random numbers using list comprehension.\n",
    "    2. Create a list of squares of the even numbers from random numbers using list comprehension.\n",
    "    3. Create a list of tuples (number, square) for random numbers using list comprehension."
   ]
  },
  {
   "cell_type": "code",
   "execution_count": 10,
   "metadata": {
    "id": "Yfq-i6CeYj3u"
   },
   "outputs": [
    {
     "name": "stdout",
     "output_type": "stream",
     "text": [
      "Random Numbers: [6, 98, 50, 100, 40, 39, 36, 63, 90, 85]\n",
      "Squares of Even Numbers: [36, 9604, 2500, 10000, 1600, 1296, 8100]\n",
      "Number-Square Tuples: [(6, 36), (98, 9604), (50, 2500), (100, 10000), (40, 1600), (39, 1521), (36, 1296), (63, 3969), (90, 8100), (85, 7225)]\n"
     ]
    }
   ],
   "source": [
    "import random\n",
    "\n",
    "\n",
    "random= [random.randint(1, 100) for _ in range(10)]\n",
    "\n",
    "squares = [x**2 for x in random if x % 2 == 0]\n",
    "\n",
    "tuples = [(num, num**2) for num in random]\n",
    "\n",
    "# Print the results\n",
    "print(\"Random Numbers:\", random)\n",
    "print(\"Squares of Even Numbers:\", squares)\n",
    "print(\"Number-Square Tuples:\", tuples)"
   ]
  },
  {
   "cell_type": "markdown",
   "metadata": {
    "id": "jYdOq46NYj3u"
   },
   "source": [
    "### Task 3\n",
    "- Create a dictionary where the keys are numbers from 1 to 5 and the values are list of their squares and cubes.\n",
    "\n",
    "  - **hint**: use dictionary of list comprehension.\n",
    "\n",
    "- Create a dictionary from two lists (one with keys and one with values) using dictionary comprehension.\n",
    "\n"
   ]
  },
  {
   "cell_type": "code",
   "execution_count": 11,
   "metadata": {
    "id": "IEnsiNmCYj3u"
   },
   "outputs": [
    {
     "name": "stdout",
     "output_type": "stream",
     "text": [
      "Dictionary with squares and cubes of numbers from 1 to 5:\n",
      "{1: [1, 1], 2: [4, 8], 3: [9, 27], 4: [16, 64], 5: [25, 125]}\n"
     ]
    }
   ],
   "source": [
    "cubes_dict = {num: [num**2, num**3] for num in range(1, 6)}\n",
    "\n",
    "print(\"Dictionary with squares and cubes of numbers from 1 to 5:\")\n",
    "print(cubes_dict)"
   ]
  },
  {
   "cell_type": "code",
   "execution_count": 13,
   "metadata": {},
   "outputs": [
    {
     "name": "stdout",
     "output_type": "stream",
     "text": [
      "\n",
      "Dictionary created from two lists:\n",
      "{'A': 1, 'B': 2, 'C': 3, 'D': 4, 'E': 5}\n"
     ]
    }
   ],
   "source": [
    "key = ['A', 'B', 'C', 'D', 'E']\n",
    "val= [1, 2, 3, 4, 5]\n",
    "\n",
    "cdict = {k: v for k, v in zip(key, val)}\n",
    "\n",
    "# Print the dictionary\n",
    "print(\"\\nDictionary created from two lists:\")\n",
    "print(cdict)"
   ]
  },
  {
   "cell_type": "markdown",
   "metadata": {
    "id": "6T9TCQ8SYj3v"
   },
   "source": [
    "### Task 4\n",
    "- Given a dictionary where keys are student names and values are lists of their scores, write a function that updates the scores of students who have achieved a perfect score (100) by adding a bonus of 5 points to each score. Use dictionary comprehension to achieve this.\n",
    "\n",
    "    - Implement the function add_bonus_to_perfect_scores(student_scores) that adds a bonus of 5 points to each score of students who have achieved a perfect score (100)."
   ]
  },
  {
   "cell_type": "code",
   "execution_count": 14,
   "metadata": {
    "id": "T3R_VsQpYj3v"
   },
   "outputs": [
    {
     "name": "stdout",
     "output_type": "stream",
     "text": [
      "Updated Student Scores:\n",
      "abdulaziz: [95, 105, 98]\n",
      "ahmed: [105, 105, 105]\n",
      "abdullah: [85, 90, 95]\n"
     ]
    }
   ],
   "source": [
    "def score_bouns(student_scores):\n",
    "    updated_scores = {name: [score + 5 if score == 100 else score for score in scores]\n",
    "                      for name, scores in student_scores.items()}\n",
    "\n",
    "    return updated_scores\n",
    "\n",
    "student_scores = {\n",
    "    'abdulaziz': [95, 100, 98],\n",
    "    'ahmed': [100, 100, 100],\n",
    "    'abdullah': [85, 90, 95]\n",
    "}\n",
    "\n",
    "updated_student_scores = score_bouns(student_scores)\n",
    "\n",
    "print(\"Updated Student Scores:\")\n",
    "for name, scores in updated_student_scores.items():\n",
    "    print(f\"{name}: {scores}\")"
   ]
  },
  {
   "cell_type": "markdown",
   "metadata": {
    "id": "rJkOEFAwYj3v"
   },
   "source": []
  }
 ],
 "metadata": {
  "colab": {
   "provenance": []
  },
  "kernelspec": {
   "display_name": "Python 3 (ipykernel)",
   "language": "python",
   "name": "python3"
  },
  "language_info": {
   "codemirror_mode": {
    "name": "ipython",
    "version": 3
   },
   "file_extension": ".py",
   "mimetype": "text/x-python",
   "name": "python",
   "nbconvert_exporter": "python",
   "pygments_lexer": "ipython3",
   "version": "3.11.4"
  }
 },
 "nbformat": 4,
 "nbformat_minor": 1
}
