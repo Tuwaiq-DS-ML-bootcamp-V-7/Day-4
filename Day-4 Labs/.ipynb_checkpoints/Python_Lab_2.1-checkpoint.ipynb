{
 "cells": [
  {
   "cell_type": "markdown",
   "metadata": {
    "id": "x7F-mxeubDUG"
   },
   "source": [
    "# Python_Lab_2.1\n"
   ]
  },
  {
   "cell_type": "markdown",
   "metadata": {
    "id": "14c6Hn1BbDUH"
   },
   "source": [
    "### Task 1\n",
    "1. Write a function named is_prime that takes a number as a parameter and returns True if the number is prime and False otherwise. Print whether the number 29 is prime."
   ]
  },
  {
   "cell_type": "code",
   "execution_count": 43,
   "metadata": {
    "id": "5e_MZEN0bDUI"
   },
   "outputs": [
    {
     "name": "stdout",
     "output_type": "stream",
     "text": [
      "False\n"
     ]
    }
   ],
   "source": [
    "def is_prime(num):\n",
    "    if num == 1:\n",
    "        return False\n",
    "    for i in range(2, num + 1):\n",
    "        if (num % i) == 0 and i != num:\n",
    "            return False\n",
    "    return True\n",
    "\n",
    "print(is_prime(29))"
   ]
  },
  {
   "cell_type": "markdown",
   "metadata": {
    "id": "2zKG8ZcybDUI"
   },
   "source": [
    "### Task 2\n",
    "1. Create a list of 10 numbers and sort them in descending order using the sort() function.\n",
    "2. Use the len() function to print the length of the sorted list.\n",
    "3. Use the zip() function to combine three lists (names, ages, and cities) into a list of tuples.\n",
    "4. Use the range() function to create a list of even numbers from 2 to 20 and print the list."
   ]
  },
  {
   "cell_type": "code",
   "execution_count": 37,
   "metadata": {
    "id": "yyoe__M_bDUI"
   },
   "outputs": [
    {
     "name": "stdout",
     "output_type": "stream",
     "text": [
      "[1, 3, 5, 2, 6, 9, 4, 8, 10, 7]\n",
      "[10, 9, 8, 7, 6, 5, 4, 3, 2, 1]\n",
      "10\n",
      "[('Mohammed', 23, 'Medina'), ('Saad', 64, 'Jeddah'), ('Fahad', 30, 'Riyadh')]\n",
      "[2, 4, 6, 8, 10, 12, 14, 16, 18]\n"
     ]
    }
   ],
   "source": [
    "nums = [1, 3, 5, 2, 6, 9, 4, 8, 10, 7]\n",
    "print(nums)\n",
    "\n",
    "nums.sort(reverse = True)\n",
    "print(nums)\n",
    "\n",
    "print(len(nums))\n",
    "\n",
    "names = [\"Mohammed\", \"Saad\", \"Fahad\"]\n",
    "ages = [23, 64, 30]\n",
    "cities = [\"Medina\", \"Jeddah\", \"Riyadh\"]\n",
    "zipped = zip(names, ages, cities)\n",
    "print(list(zipped))\n",
    "\n",
    "even_nums = list()\n",
    "\n",
    "for i in range(2, 20):\n",
    "    if i % 2 == 0 :\n",
    "        even_nums.append(i)\n",
    "print(even_nums)"
   ]
  },
  {
   "cell_type": "markdown",
   "metadata": {
    "id": "aStW5p7AbDUI"
   },
   "source": [
    "### Task 3\n",
    "Build a phone book program that receives the phone number, and returns the name of the owner.\n",
    "You can follow the table below:\n",
    "\n",
    "| Name     | Number     |\n",
    "| -------- | ---------- |\n",
    "| Amal     | 1111111111 |\n",
    "| Mohammed | 2222222222 |\n",
    "| Khadijah | 3333333333 |\n",
    "| Abdullah | 4444444444 |\n",
    "| Rawan    | 5555555555 |\n",
    "| Faisal   | 6666666666 |\n",
    "| Layla    | 7777777777 |\n",
    "\n",
    "- If the number exists, print the owner. Otherwise, print \"Sorry, the number is not found\".\n",
    "- If the number is less or more than 10 numbers, print \"This is invalid number\".\n",
    "- If the number contains letters or symbols, print \"This is invalid number\".\n"
   ]
  },
  {
   "cell_type": "code",
   "execution_count": 22,
   "metadata": {
    "id": "kvXmjUe-bDUJ"
   },
   "outputs": [
    {
     "name": "stdout",
     "output_type": "stream",
     "text": [
      "Layla\n"
     ]
    }
   ],
   "source": [
    "import string\n",
    "\n",
    "def owner(phone):\n",
    "    if len(phone) != 10 or any(i.isalpha() for i in phone) or any(i in string.punctuation for i in phone):\n",
    "        print(\"This is invalid number\")\n",
    "        return\n",
    "    info = {\"Amal\": \"1111111111\",\n",
    "            \"Mohammed\": \"2222222222\",\n",
    "            \"Khadijah\": \"3333333333\",\n",
    "            \"Abdullah\": \"4444444444\", \n",
    "            \"Rawan\": \"5555555555\",\n",
    "            \"Faisal\": \"6666666666\",\n",
    "            \"Layla\": \"7777777777\"}\n",
    "    \n",
    "    for k, v in info.items():\n",
    "        if v == phone:\n",
    "            print(k)\n",
    "            return\n",
    "    print(\"Sorry, the number is not found\")\n",
    "owner(\"7777777777\")"
   ]
  },
  {
   "cell_type": "markdown",
   "metadata": {
    "id": "exLHQ28nbDUJ"
   },
   "source": [
    "### Task 4\n",
    "- Given the following list : [5, 4, 17, 19, 30, 2, 7, 10, 45]\n",
    "    1. Use a lambda function to filter out only the odd numbers.\n",
    "    2. Print the new list of odd numbers."
   ]
  },
  {
   "cell_type": "code",
   "execution_count": 36,
   "metadata": {
    "id": "64SUsh1cbDUJ"
   },
   "outputs": [
    {
     "name": "stdout",
     "output_type": "stream",
     "text": [
      "[2, 6, 8, 4, 0, 10]\n"
     ]
    }
   ],
   "source": [
    "lst = [2, 1, 3, 5, 6, 7, 8, 4, 9, 0, 10, 11]\n",
    "even = list(filter(lambda x: x % 2 == 0, lst))\n",
    "\n",
    "print(even)\n"
   ]
  }
 ],
 "metadata": {
  "colab": {
   "provenance": []
  },
  "kernelspec": {
   "display_name": "Python 3 (ipykernel)",
   "language": "python",
   "name": "python3"
  },
  "language_info": {
   "codemirror_mode": {
    "name": "ipython",
    "version": 3
   },
   "file_extension": ".py",
   "mimetype": "text/x-python",
   "name": "python",
   "nbconvert_exporter": "python",
   "pygments_lexer": "ipython3",
   "version": "3.11.5"
  }
 },
 "nbformat": 4,
 "nbformat_minor": 1
}
