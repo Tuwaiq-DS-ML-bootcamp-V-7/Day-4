{
 "cells": [
  {
   "cell_type": "markdown",
   "metadata": {
    "id": "x7F-mxeubDUG"
   },
   "source": [
    "# Python_Lab_2.1\n"
   ]
  },
  {
   "cell_type": "markdown",
   "metadata": {
    "id": "14c6Hn1BbDUH"
   },
   "source": [
    "### Task 1\n",
    "1. Write a function named is_prime that takes a number as a parameter and returns True if the number is prime and False otherwise. Print whether the number 29 is prime.\n"
   ]
  },
  {
   "cell_type": "code",
   "execution_count": 36,
   "metadata": {
    "id": "5e_MZEN0bDUI"
   },
   "outputs": [
    {
     "name": "stdout",
     "output_type": "stream",
     "text": [
      "False\n"
     ]
    }
   ],
   "source": [
    "def is_prime(n):\n",
    "   if n <= 1:\n",
    "        return False\n",
    "   for i in range(2, int(n**0.5) + 1):\n",
    "        if n % i == 0:\n",
    "            return False\n",
    "   return True\n",
    "\n",
    "print(is_prime(4))"
   ]
  },
  {
   "cell_type": "markdown",
   "metadata": {
    "id": "2zKG8ZcybDUI"
   },
   "source": [
    "### Task 2\n",
    "1. Create a list of 10 numbers and sort them in descending order using the sort() function.\n",
    "2. Use the len() function to print the length of the sorted list.\n",
    "3. Use the zip() function to combine three lists (names, ages, and cities) into a list of tuples.\n",
    "4. Use the range() function to create a list of even numbers from 2 to 20 and print the list."
   ]
  },
  {
   "cell_type": "code",
   "execution_count": 42,
   "metadata": {
    "id": "yyoe__M_bDUI"
   },
   "outputs": [
    {
     "name": "stdout",
     "output_type": "stream",
     "text": [
      "[10, 19, 4, 5, 77, 2, 1, 6, 8, 33]\n",
      "[10, 19, 4, 5, 77, 2, 1, 6, 8, 33]\n"
     ]
    }
   ],
   "source": [
    "The_list = [10,19,4,5,77,2,1,6,8,33]\n",
    "print(The_list)\n",
    "list.sort(reverse=True)\n",
    "print(The_list)"
   ]
  },
  {
   "cell_type": "code",
   "execution_count": 43,
   "metadata": {},
   "outputs": [
    {
     "name": "stdout",
     "output_type": "stream",
     "text": [
      "10\n"
     ]
    }
   ],
   "source": [
    "print(len(The_list))"
   ]
  },
  {
   "cell_type": "code",
   "execution_count": 1,
   "metadata": {},
   "outputs": [
    {
     "name": "stdout",
     "output_type": "stream",
     "text": [
      "['Abdulrahman', 'Ola', 'Wed'] [26, 28, 27] ['jeddh', 'Riyadh', 'khobar']\n",
      "[('Abdulrahman', 26, 'jeddh'), ('Ola', 28, 'Riyadh'), ('Wed', 27, 'khobar')]\n"
     ]
    }
   ],
   "source": [
    "name = [\"Abdulrahman\",\"Ola\",\"Wed\"]\n",
    "age = [26,28,27]\n",
    "cities =[\"jeddh\",\"Riyadh\",\"khobar\"]\n",
    "print(name,age,cities)\n",
    "zipped = zip(name,age,cities)\n",
    "result = list(zipped)\n",
    "print(result)\n"
   ]
  },
  {
   "cell_type": "code",
   "execution_count": 3,
   "metadata": {},
   "outputs": [
    {
     "name": "stdout",
     "output_type": "stream",
     "text": [
      "[2, 4, 6, 8, 10, 12, 14, 16, 18, 20]\n"
     ]
    }
   ],
   "source": [
    "x = list(range(2, 21, 2))\n",
    "print(x)\n"
   ]
  },
  {
   "cell_type": "markdown",
   "metadata": {
    "id": "aStW5p7AbDUI"
   },
   "source": [
    "### Task 3\n",
    "Build a phone book program that receives the phone number, and returns the name of the owner.\n",
    "You can follow the table below:\n",
    "\n",
    "| Name     | Number     |\n",
    "| -------- | ---------- |\n",
    "| Amal     | 1111111111 |\n",
    "| Mohammed | 2222222222 |\n",
    "| Khadijah | 3333333333 |\n",
    "| Abdullah | 4444444444 |\n",
    "| Rawan    | 5555555555 |\n",
    "| Faisal   | 6666666666 |\n",
    "| Layla    | 7777777777 |\n",
    "\n",
    "- If the number exists, print the owner. Otherwise, print \"Sorry, the number is not found\".\n",
    "- If the number is less or more than 10 numbers, print \"This is invalid number\".\n",
    "- If the number contains letters or symbols, print \"This is invalid number\".\n"
   ]
  },
  {
   "cell_type": "code",
   "execution_count": 37,
   "metadata": {},
   "outputs": [
    {
     "name": "stdout",
     "output_type": "stream",
     "text": [
      "Rawan\n",
      "Sorry, the number is not found\n",
      "This is invalid number\n"
     ]
    }
   ],
   "source": [
    "phone_book = {\n",
    "    1111111111: \"Amal\",\n",
    "    2222222222: \"Mohammed\",\n",
    "    3333333333: \"Khadijah\",\n",
    "    4444444444: \"Abdullah\",\n",
    "    5555555555: \"Rawan\",\n",
    "    6666666666: \"Faisal\",\n",
    "    7777777777: \"Layla\"\n",
    "}\n",
    "\n",
    "def check_owner(phone):\n",
    "    if len(str(phone)) != 10 or not str(phone).isdigit(): \n",
    "        print(\"This is invalid number\")\n",
    "    elif phone in phone_book:\n",
    "        print(phone_book[phone])\n",
    "    else:\n",
    "        print(\"Sorry, the number is not found\")\n",
    "        \n",
    "check_owner(5555555555)\n",
    "check_owner(1234567890)\n",
    "check_owner('hgffrh')"
   ]
  },
  {
   "cell_type": "markdown",
   "metadata": {
    "id": "exLHQ28nbDUJ"
   },
   "source": [
    "### Task 4\n",
    "- Given the following list : [5, 4, 17, 19, 30, 2, 7, 10, 45]\n",
    "    1. Use a lambda function to filter out only the odd numbers.\n",
    "    2. Print the new list of odd numbers."
   ]
  },
  {
   "cell_type": "code",
   "execution_count": 30,
   "metadata": {
    "id": "64SUsh1cbDUJ"
   },
   "outputs": [
    {
     "name": "stdout",
     "output_type": "stream",
     "text": [
      "[5, 17, 19, 7, 45]\n"
     ]
    }
   ],
   "source": [
    "lst = [5, 4, 17, 19, 30, 2, 7, 10, 45]\n",
    "f = filter(lambda n : n % 2 != 0, lst)\n",
    "print(list(f))"
   ]
  },
  {
   "cell_type": "code",
   "execution_count": null,
   "metadata": {},
   "outputs": [],
   "source": []
  }
 ],
 "metadata": {
  "colab": {
   "provenance": []
  },
  "kernelspec": {
   "display_name": "Python 3 (ipykernel)",
   "language": "python",
   "name": "python3"
  },
  "language_info": {
   "codemirror_mode": {
    "name": "ipython",
    "version": 3
   },
   "file_extension": ".py",
   "mimetype": "text/x-python",
   "name": "python",
   "nbconvert_exporter": "python",
   "pygments_lexer": "ipython3",
   "version": "3.11.4"
  }
 },
 "nbformat": 4,
 "nbformat_minor": 1
}
