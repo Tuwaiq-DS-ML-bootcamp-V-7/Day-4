{
 "cells": [
  {
   "cell_type": "markdown",
   "metadata": {
    "id": "x7F-mxeubDUG"
   },
   "source": [
    "# Python_Lab_2.1\n"
   ]
  },
  {
   "cell_type": "markdown",
   "metadata": {
    "id": "14c6Hn1BbDUH"
   },
   "source": [
    "### Task 1\n",
    "1. Write a function named is_prime that takes a number as a parameter and returns True if the number is prime and False otherwise. Print whether the number 29 is prime."
   ]
  },
  {
   "cell_type": "code",
   "execution_count": 3,
   "metadata": {
    "id": "5e_MZEN0bDUI"
   },
   "outputs": [
    {
     "name": "stdout",
     "output_type": "stream",
     "text": [
      "True\n"
     ]
    }
   ],
   "source": [
    "# write your code here ^_^\n",
    "def is_prime(n):\n",
    "    if n < 2:\n",
    "        return False\n",
    "    for i in range(2, n):\n",
    "        if n % i == 0:\n",
    "            return False\n",
    "    return True\n",
    "\n",
    "print(is_prime(29))"
   ]
  },
  {
   "cell_type": "markdown",
   "metadata": {
    "id": "2zKG8ZcybDUI"
   },
   "source": [
    "### Task 2\n",
    "1. Create a list of 10 numbers and sort them in descending order using the sort() function.\n",
    "2. Use the len() function to print the length of the sorted list.\n",
    "3. Use the zip() function to combine three lists (names, ages, and cities) into a list of tuples.\n",
    "4. Use the range() function to create a list of even numbers from 2 to 20 and print the list."
   ]
  },
  {
   "cell_type": "code",
   "execution_count": 10,
   "metadata": {},
   "outputs": [
    {
     "name": "stdout",
     "output_type": "stream",
     "text": [
      "[10, 9, 8, 7, 6, 5, 4, 3, 2, 1]\n",
      "10\n",
      "[('Ziyad', 24, 'Riyadh'), ('Mohammed', 18, 'Jeddah'), ('Yousef', 30, 'Abha')]\n",
      "[2, 4, 6, 8, 10, 12, 14, 16, 18, 20]\n"
     ]
    }
   ],
   "source": [
    "# write your code here ^_^\n",
    "import builtins\n",
    "\n",
    "# ---------- 1 ----------\n",
    "n_list = [1, 2, 3, 4, 5, 6, 7, 8, 9, 10]\n",
    "n_list.sort(reverse=True)\n",
    "\n",
    "print(n_list)\n",
    "\n",
    "# ---------- 2 ----------\n",
    "print(len(n_list))\n",
    "\n",
    "# ---------- 3 ----------\n",
    "names = [\"Ziyad\", \"Mohammed\", \"Yousef\"]\n",
    "ages = [24, 18, 30]\n",
    "cities = [\"Riyadh\", \"Jeddah\", \"Abha\"]\n",
    "\n",
    "x = zip(names, ages, cities)\n",
    "y = list(x)\n",
    "\n",
    "print(y)\n",
    "\n",
    "# ---------- 4 ----------\n",
    "even_list = []\n",
    "\n",
    "for i in range(2, 21, 2):\n",
    "    even_list.append(i)\n",
    "\n",
    "print(even_list)\n"
   ]
  },
  {
   "cell_type": "markdown",
   "metadata": {
    "id": "aStW5p7AbDUI"
   },
   "source": [
    "### Task 3\n",
    "Build a phone book program that receives the phone number, and returns the name of the owner.\n",
    "You can follow the table below:\n",
    "\n",
    "| Name     | Number     |\n",
    "| -------- | ---------- |\n",
    "| Amal     | 1111111111 |\n",
    "| Mohammed | 2222222222 |\n",
    "| Khadijah | 3333333333 |\n",
    "| Abdullah | 4444444444 |\n",
    "| Rawan    | 5555555555 |\n",
    "| Rawan   | 6666666666 |\n",
    "| Layla    | 7777777777 |\n",
    "\n",
    "- If the number exists, print the owner. Otherwise, print \"Sorry, the number is not found\".\n",
    "- If the number is less or more than 10 numbers, print \"This is invalid number\".\n",
    "- If the number contains letters or symbols, print \"This is invalid number\".\n"
   ]
  },
  {
   "cell_type": "code",
   "execution_count": 27,
   "metadata": {
    "id": "kvXmjUe-bDUJ",
    "scrolled": true
   },
   "outputs": [
    {
     "name": "stdout",
     "output_type": "stream",
     "text": [
      "Rawan\n"
     ]
    }
   ],
   "source": [
    "# write your code here ^_^\n",
    "phone_book = {\"Amal\" : 1111111111,\n",
    "        \"Mohammed\" : 2222222222,\n",
    "        \"Khadijah\" : 3333333333,\n",
    "        \"Abdullah\" : 4444444444,\n",
    "        \"Rawan\" : 5555555555,\n",
    "        \"Rawan\" : 6666666666,\n",
    "        \"Layla\" : 7777777777\n",
    "       }\n",
    "\n",
    "phone_number = 6666666666\n",
    "\n",
    "while(True):\n",
    "    if len(str(phone_number)) != 10:\n",
    "        print(\"This is invalid number\")\n",
    "        break\n",
    "        \n",
    "    if str(phone_number).isnumeric():\n",
    "        pass \n",
    "    else:\n",
    "        print(\"This is invalid number\")\n",
    "        break\n",
    "    \n",
    "    exist = False\n",
    "    for key, value in phone_book.items():\n",
    "        if value == phone_number:\n",
    "            exist = True\n",
    "            print(key)  \n",
    "            break\n",
    "\n",
    "    if not exist:\n",
    "        print(\"Sorry, the number is not found\")\n",
    "        \n",
    "    break\n",
    "        "
   ]
  },
  {
   "cell_type": "markdown",
   "metadata": {
    "id": "exLHQ28nbDUJ"
   },
   "source": [
    "### Task 4\n",
    "- Given the following list : [5, 4, 17, 19, 30, 2, 7, 10, 45]\n",
    "    1. Use a lambda function to filter out only the odd numbers.\n",
    "    2. Print the new list of odd numbers."
   ]
  },
  {
   "cell_type": "code",
   "execution_count": 39,
   "metadata": {
    "id": "64SUsh1cbDUJ"
   },
   "outputs": [
    {
     "name": "stdout",
     "output_type": "stream",
     "text": [
      "[5, 17, 19, 7, 45]\n"
     ]
    }
   ],
   "source": [
    "# write your code here ^_^\n",
    "lst = [5, 4, 17, 19, 30, 2, 7, 10, 45]\n",
    "\n",
    "odd_lst = filter(lambda x: x % 2 != 0, lst)\n",
    "\n",
    "print(list(odd_lst))"
   ]
  },
  {
   "cell_type": "code",
   "execution_count": null,
   "metadata": {},
   "outputs": [],
   "source": []
  }
 ],
 "metadata": {
  "colab": {
   "provenance": []
  },
  "kernelspec": {
   "display_name": "Python 3 (ipykernel)",
   "language": "python",
   "name": "python3"
  },
  "language_info": {
   "codemirror_mode": {
    "name": "ipython",
    "version": 3
   },
   "file_extension": ".py",
   "mimetype": "text/x-python",
   "name": "python",
   "nbconvert_exporter": "python",
   "pygments_lexer": "ipython3",
   "version": "3.9.12"
  }
 },
 "nbformat": 4,
 "nbformat_minor": 1
}
