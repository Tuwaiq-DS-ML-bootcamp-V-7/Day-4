{
 "cells": [
  {
   "cell_type": "markdown",
   "metadata": {
    "id": "E9Y5ss1ZYj3r"
   },
   "source": [
    "# Python_Lab_2.2\n"
   ]
  },
  {
   "cell_type": "markdown",
   "metadata": {
    "id": "Q1kAqc72Yj3t"
   },
   "source": [
    "### Task 1\n",
    "1. Write a program that prompts the user to enter two numbers and prints their division. Handle cases where the user enters non-numeric values or attempts to divide by zero using a try-except block.\n"
   ]
  },
  {
   "cell_type": "code",
   "execution_count": 23,
   "metadata": {
    "id": "H-xyoRTVYj3t"
   },
   "outputs": [
    {
     "name": "stdout",
     "output_type": "stream",
     "text": [
      "Enter first number 5\n",
      "Enter second number f\n",
      "Only numbers\n"
     ]
    }
   ],
   "source": [
    "# write your code here ^_^\n",
    "\n",
    "move = False\n",
    "try:\n",
    "    num1 = int(input(\"Enter first number \"))\n",
    "    num2 = int(input(\"Enter second number \"))\n",
    "    move = True\n",
    "except ValueError:\n",
    "    print(\"Only numbers\")\n",
    "\n",
    "if move:\n",
    "    try:\n",
    "        result = num1/num2\n",
    "        print(result)\n",
    "    except ZeroDivisionError:\n",
    "        print(\"No division by zero\")\n",
    "\n"
   ]
  },
  {
   "cell_type": "markdown",
   "metadata": {
    "id": "CPWcDSC_Yj3u"
   },
   "source": [
    "### Task 2\n",
    "- Use \"Random\" library to do the following:\n",
    "    1. Create a list of random numbers using list comprehension.\n",
    "    2. Create a list of squares of the even numbers from random numbers using list comprehension.\n",
    "    3. Create a list of tuples (number, square) for random numbers using list comprehension."
   ]
  },
  {
   "cell_type": "code",
   "execution_count": 46,
   "metadata": {
    "id": "Yfq-i6CeYj3u"
   },
   "outputs": [
    {
     "name": "stdout",
     "output_type": "stream",
     "text": [
      "[6, 4, 6, 10, 7]\n",
      "[36, 16, 36, 100]\n",
      "[(6, 36), (4, 16), (6, 36), (10, 100), (7, 49)]\n"
     ]
    }
   ],
   "source": [
    "# write your code here ^_^\n",
    "\n",
    "import random\n",
    "\n",
    "# 1\n",
    "ran_num = [random.randint(1, 10) for x in range(5)]\n",
    "print(ran_num)\n",
    "\n",
    "# 2\n",
    "even_aq_ran_num = [x ** 2 for x in ran_num if x % 2 == 0]\n",
    "print(even_aq_ran_num)\n",
    "\n",
    "\n",
    "# 3\n",
    "lst_tuple = [(x, x**2) for x in ran_num]\n",
    "print(lst_tuple)\n"
   ]
  },
  {
   "cell_type": "markdown",
   "metadata": {
    "id": "jYdOq46NYj3u"
   },
   "source": [
    "### Task 3\n",
    "- Create a dictionary where the keys are numbers from 1 to 5 and the values are list of their squares and cubes.\n",
    "\n",
    "  - **hint**: use dictionary of list comprehension.\n",
    "\n",
    "- Create a dictionary from two lists (one with keys and one with values) using dictionary comprehension.\n",
    "\n"
   ]
  },
  {
   "cell_type": "code",
   "execution_count": 57,
   "metadata": {
    "id": "IEnsiNmCYj3u"
   },
   "outputs": [
    {
     "name": "stdout",
     "output_type": "stream",
     "text": [
      "{1: [1, 1], 2: [4, 8], 3: [9, 27], 4: [16, 64], 5: [25, 125]}\n",
      "{'one': 1, 'two': 2, 'three': 3}\n"
     ]
    }
   ],
   "source": [
    "# write your code here ^_^\n",
    "\n",
    "# 1\n",
    "dic1 = { x:[x ** 2, x ** 3] for x in [1,2,3,4,5]}\n",
    "print(dic1)\n",
    "\n",
    "# 2\n",
    "key = [\"one\", \"two\", \"three\"]\n",
    "value = [1, 2, 3]\n",
    "\n",
    "dic2 = {key[x]: value[x] for x in range(len(key))}\n",
    "print(dic2)\n",
    "\n"
   ]
  },
  {
   "cell_type": "markdown",
   "metadata": {
    "id": "6T9TCQ8SYj3v"
   },
   "source": [
    "### Task 4\n",
    "- Given a dictionary where keys are student names and values are lists of their scores, write a function that updates the scores of students who have achieved a perfect score (100) by adding a bonus of 5 points to each score. Use dictionary comprehension to achieve this.\n",
    "\n",
    "    - Implement the function add_bonus_to_perfect_scores(student_scores) that adds a bonus of 5 points to each score of students who have achieved a perfect score (100)."
   ]
  },
  {
   "cell_type": "code",
   "execution_count": 62,
   "metadata": {
    "id": "T3R_VsQpYj3v"
   },
   "outputs": [
    {
     "name": "stdout",
     "output_type": "stream",
     "text": [
      "{'Ziyad': [105, 99, 90], 'Ali': [95, 0, 105], 'Fahad': [80, 90, 95]}\n"
     ]
    }
   ],
   "source": [
    "# write your code here ^_^\n",
    "\n",
    "def add_bonus_to_perfect_scores(s_scores):\n",
    "    return { student: [score + (5 if score == 100 else 0) for score in scores] for student, scores in s_scores.items()}\n",
    "    \n",
    "    \n",
    "students_score = {\"Ziyad\": [100, 99, 90], \"Ali\": [95,0,100], \"Fahad\": [80,90,95]}\n",
    "\n",
    "print(add_bonus_to_perfect_scores(students_score))"
   ]
  },
  {
   "cell_type": "markdown",
   "metadata": {
    "id": "rJkOEFAwYj3v"
   },
   "source": []
  }
 ],
 "metadata": {
  "colab": {
   "provenance": []
  },
  "kernelspec": {
   "display_name": "Python 3 (ipykernel)",
   "language": "python",
   "name": "python3"
  },
  "language_info": {
   "codemirror_mode": {
    "name": "ipython",
    "version": 3
   },
   "file_extension": ".py",
   "mimetype": "text/x-python",
   "name": "python",
   "nbconvert_exporter": "python",
   "pygments_lexer": "ipython3",
   "version": "3.9.12"
  }
 },
 "nbformat": 4,
 "nbformat_minor": 1
}
