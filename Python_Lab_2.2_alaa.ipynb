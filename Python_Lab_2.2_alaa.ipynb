{
 "cells": [
  {
   "cell_type": "markdown",
   "metadata": {
    "id": "E9Y5ss1ZYj3r"
   },
   "source": [
    "# Python_Lab_2.2\n"
   ]
  },
  {
   "cell_type": "markdown",
   "metadata": {
    "id": "Q1kAqc72Yj3t"
   },
   "source": [
    "### Task 1\n",
    "1. Write a program that prompts the user to enter two numbers and prints their division. Handle cases where the user enters non-numeric values or attempts to divide by zero using a try-except block.\n"
   ]
  },
  {
   "cell_type": "code",
   "execution_count": 6,
   "metadata": {
    "id": "H-xyoRTVYj3t"
   },
   "outputs": [
    {
     "name": "stdin",
     "output_type": "stream",
     "text": [
      "Enter first number:  6\n",
      "Enter second number:  0\n"
     ]
    },
    {
     "name": "stdout",
     "output_type": "stream",
     "text": [
      "you can not divide by zero\n"
     ]
    }
   ],
   "source": [
    "try:\n",
    "    number1 =int(input(\"Enter first number: \"))\n",
    "    number2 =int(input(\"Enter second number: \"))\n",
    "    print(number1 / number2)\n",
    "except:\n",
    "    print(\"you can not divide by zero\")\n"
   ]
  },
  {
   "cell_type": "markdown",
   "metadata": {
    "id": "CPWcDSC_Yj3u"
   },
   "source": [
    "### Task 2\n",
    "- Use \"Random\" library to do the following:\n",
    "    1. Create a list of random numbers using list comprehension.\n",
    "    2. Create a list of squares of the even numbers from random numbers using list comprehension.\n",
    "    3. Create a list of tuples (number, square) for random numbers using list comprehension."
   ]
  },
  {
   "cell_type": "code",
   "execution_count": 8,
   "metadata": {
    "id": "Yfq-i6CeYj3u"
   },
   "outputs": [
    {
     "name": "stdout",
     "output_type": "stream",
     "text": [
      "Random Numbers: [48, 14, 32, 6, 33, 28, 50, 15, 34, 9]\n",
      "Squares of Even Numbers: [2304, 196, 1024, 36, 784, 2500, 1156]\n",
      "list of Tuples: [(48, 2304), (14, 196), (32, 1024), (6, 36), (33, 1089), (28, 784), (50, 2500), (15, 225), (34, 1156), (9, 81)]\n"
     ]
    }
   ],
   "source": [
    "import random\n",
    "\n",
    "random_numbers = [random.randint(1, 50) for i in range(10)]\n",
    "squares_of_evenNumber = [x**2 for x in random_numbers if x % 2 == 0]\n",
    "list_of_tuples = [(x, x**2) for x in random_numbers]\n",
    "\n",
    "print(\"Random Numbers:\", random_numbers)\n",
    "print(\"Squares of Even Numbers:\", squares_of_evenNumber)\n",
    "print(\"list of Tuples:\", list_of_tuples)"
   ]
  },
  {
   "cell_type": "markdown",
   "metadata": {
    "id": "jYdOq46NYj3u"
   },
   "source": [
    "### Task 3\n",
    "- Create a dictionary where the keys are numbers from 1 to 5 and the values are list of their squares and cubes.\n",
    "\n",
    "  - **hint**: use dictionary of list comprehension.\n",
    "\n",
    "- Create a dictionary from two lists (one with keys and one with values) using dictionary comprehension.\n",
    "\n"
   ]
  },
  {
   "cell_type": "code",
   "execution_count": 9,
   "metadata": {
    "id": "IEnsiNmCYj3u"
   },
   "outputs": [
    {
     "name": "stdout",
     "output_type": "stream",
     "text": [
      "{1: [1, 1], 2: [4, 8], 3: [9, 27], 4: [16, 64], 5: [25, 125]}\n"
     ]
    }
   ],
   "source": [
    "dict_of_list= {x: [x**2, x**3] for x in range(1, 6)}\n",
    "print(dict_of_list)"
   ]
  },
  {
   "cell_type": "code",
   "execution_count": 11,
   "metadata": {},
   "outputs": [
    {
     "name": "stdout",
     "output_type": "stream",
     "text": [
      "{'alaa': 23, 'Elaf': 25, 'Esraa': 21}\n"
     ]
    }
   ],
   "source": [
    "list1_key=[\"alaa\",\"Elaf\",\"Esraa\"]\n",
    "list2_value=[23,25,21]\n",
    "\n",
    "my_dict={list1_key[i]: list2_value[i] for i in range(len(list1_key))}\n",
    "print(my_dict)"
   ]
  },
  {
   "cell_type": "markdown",
   "metadata": {
    "id": "6T9TCQ8SYj3v"
   },
   "source": [
    "### Task 4\n",
    "- Given a dictionary where keys are student names and values are lists of their scores, write a function that updates the scores of students who have achieved a perfect score (100) by adding a bonus of 5 points to each score. Use dictionary comprehension to achieve this.\n",
    "\n",
    "    - Implement the function add_bonus_to_perfect_scores(student_scores) that adds a bonus of 5 points to each score of students who have achieved a perfect score (100)."
   ]
  },
  {
   "cell_type": "code",
   "execution_count": 13,
   "metadata": {
    "id": "T3R_VsQpYj3v"
   },
   "outputs": [
    {
     "name": "stdout",
     "output_type": "stream",
     "text": [
      "None\n"
     ]
    }
   ],
   "source": [
    "student_dict={\n",
    "    \"Elaf\":[100,94,93],\n",
    "    \"Amani\":[95,85,90],\n",
    "    \"Esraa\":[90,92,100]\n",
    "}\n",
    "def update_student_score(student_dict):\n",
    "    return \n",
    "    {student: [score + 5 if score == 100 else score for score in scores]\n",
    "        for student, scores in student_dict.items() }\n",
    "\n",
    "the_update=update_student_score(student_dict)\n",
    "print(the_update)\n",
    "    \n",
    "    "
   ]
  },
  {
   "cell_type": "markdown",
   "metadata": {
    "id": "rJkOEFAwYj3v"
   },
   "source": []
  }
 ],
 "metadata": {
  "colab": {
   "provenance": []
  },
  "kernelspec": {
   "display_name": "Python 3 (ipykernel)",
   "language": "python",
   "name": "python3"
  },
  "language_info": {
   "codemirror_mode": {
    "name": "ipython",
    "version": 3
   },
   "file_extension": ".py",
   "mimetype": "text/x-python",
   "name": "python",
   "nbconvert_exporter": "python",
   "pygments_lexer": "ipython3",
   "version": "3.12.4"
  }
 },
 "nbformat": 4,
 "nbformat_minor": 4
}
