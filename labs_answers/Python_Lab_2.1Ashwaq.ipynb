{
 "cells": [
  {
   "cell_type": "markdown",
   "metadata": {
    "id": "x7F-mxeubDUG"
   },
   "source": [
    "# Python_Lab_2.1\n"
   ]
  },
  {
   "cell_type": "markdown",
   "metadata": {
    "id": "14c6Hn1BbDUH"
   },
   "source": [
    "### Task 1\n",
    "1. Write a function named is_prime that takes a number as a parameter and returns True if the number is prime and False otherwise. Print whether the number 29 is prime."
   ]
  },
  {
   "cell_type": "code",
   "execution_count": 70,
   "metadata": {
    "id": "5e_MZEN0bDUI"
   },
   "outputs": [
    {
     "name": "stdout",
     "output_type": "stream",
     "text": [
      "Is the number 29 prime? True\n"
     ]
    }
   ],
   "source": [
    "def is_prime(x):\n",
    "    if x < 2:\n",
    "        return False\n",
    "    if x == 2:\n",
    "        return True\n",
    "    if x % 2 == 0:\n",
    "        return False\n",
    "    for i in range(3, int(x**0.5) + 1, 2):\n",
    "        if x % i == 0:\n",
    "            return False\n",
    "    return True\n",
    "\n",
    "print(\"Is the number %d prime? %s\" % (29, is_prime(29)))"
   ]
  },
  {
   "cell_type": "markdown",
   "metadata": {
    "id": "2zKG8ZcybDUI"
   },
   "source": [
    "### Task 2\n",
    "1. Create a list of 10 numbers and sort them in descending order using the sort() function.\n",
    "2. Use the len() function to print the length of the sorted list.\n",
    "3. Use the zip() function to combine three lists (names, ages, and cities) into a list of tuples.\n",
    "4. Use the range() function to create a list of even numbers from 2 to 20 and print the list."
   ]
  },
  {
   "cell_type": "code",
   "execution_count": 15,
   "metadata": {
    "id": "yyoe__M_bDUI"
   },
   "outputs": [
    {
     "name": "stdout",
     "output_type": "stream",
     "text": [
      "[0, 3, 6, 7, 9, 10, 11, 23, 34, 78]\n",
      "10\n",
      "[('Almas', 4, 'Jeddah'), ('Alma', 13, 'Jeddah'), ('Amjad', 24, 'Riyadh')]\n",
      "2\n",
      "4\n",
      "6\n",
      "8\n",
      "10\n",
      "12\n",
      "14\n",
      "16\n",
      "18\n",
      "20\n"
     ]
    }
   ],
   "source": [
    "#Create a list of 10 numbers and sort them in descending order using the sort() function.\n",
    "list1 = [3 , 7 , 23 , 6 , 0 , 34 , 11 , 78 , 10 , 9]\n",
    "list1.sort(reverse = False)\n",
    "print(list1)\n",
    "\n",
    "#Use the len() function to print the length of the sorted list.\n",
    "print(len(list1))\n",
    "\n",
    "#Use the zip() function to combine three lists (names, ages, and cities) into a list of tuples.\n",
    "names = [\"Almas\", \"Alma\" , \"Amjad\"]\n",
    "ages = [4 , 13 , 24]\n",
    "cities = [\"Jeddah\" , \"Jeddah\" , \"Riyadh\"]\n",
    "combine = list(zip(names , ages ,cities))\n",
    "print(combine)\n",
    "\n",
    "#Use the range() function to create a list of even numbers from 2 to 20 and print the list.\n",
    "for i in range(2,21,2):\n",
    "    print(i)"
   ]
  },
  {
   "cell_type": "markdown",
   "metadata": {
    "id": "aStW5p7AbDUI"
   },
   "source": [
    "### Task 3\n",
    "Build a phone book program that receives the phone number, and returns the name of the owner.\n",
    "You can follow the table below:\n",
    "\n",
    "| Name     | Number     |\n",
    "| -------- | ---------- |\n",
    "| Amal     | 1111111111 |\n",
    "| Mohammed | 2222222222 |\n",
    "| Khadijah | 3333333333 |\n",
    "| Abdullah | 4444444444 |\n",
    "| Rawan    | 5555555555 |\n",
    "| Faisal   | 6666666666 |\n",
    "| Layla    | 7777777777 |\n",
    "\n",
    "- If the number exists, print the owner. Otherwise, print \"Sorry, the number is not found\".\n",
    "- If the number is less or more than 10 numbers, print \"This is invalid number\".\n",
    "- If the number contains letters or symbols, print \"This is invalid number\".\n"
   ]
  },
  {
   "cell_type": "code",
   "execution_count": 84,
   "metadata": {},
   "outputs": [
    {
     "name": "stdout",
     "output_type": "stream",
     "text": [
      "This is an invalid number.\n"
     ]
    },
    {
     "name": "stdin",
     "output_type": "stream",
     "text": [
      "Enter the phone number:  1111111111\n"
     ]
    },
    {
     "name": "stdout",
     "output_type": "stream",
     "text": [
      "The owner of the number 1111111111 is Amal.\n"
     ]
    }
   ],
   "source": [
    "phone_book = {\n",
    "    1111111111: \"Amal\",\n",
    "    2222222222: \"Mohammed\",\n",
    "    3333333333: \"Khadijah\",\n",
    "    4444444444: \"Abdullah\",\n",
    "    5555555555: \"Rawan\",\n",
    "    6666666666: \"Faisal\",\n",
    "    7777777777: \"Layla\"\n",
    "}\n",
    "\n",
    "def owner_name(phone_book, phone):\n",
    "    phone = str(phone)\n",
    "\n",
    "    if not phone.isdigit() or len(phone) != 10:\n",
    "        return \"This is an invalid number.\"\n",
    "    \n",
    "    owner = phone_book.get(int(phone)) \n",
    "    if owner:\n",
    "        return \"The owner of the number %s is %s.\" % (phone, owner)\n",
    "    else:\n",
    "        return \"Sorry, the number is not found.\"\n",
    "        \n",
    "# Check \n",
    "phone_number1 = \"12345\"\n",
    "result1 = owner_name(phone_book, phone_number1)\n",
    "print(result1)\n",
    "\n",
    "# Check with user input\n",
    "phone_number2 = input(\"Enter the phone number: \")\n",
    "result2 = owner_name(phone_book, phone_number2)\n",
    "print(result2)\n"
   ]
  },
  {
   "cell_type": "markdown",
   "metadata": {
    "id": "exLHQ28nbDUJ"
   },
   "source": [
    "### Task 4\n",
    "- Given the following list : [5, 4, 17, 19, 30, 2, 7, 10, 45]\n",
    "    1. Use a lambda function to filter out only the odd numbers.\n",
    "    2. Print the new list of odd numbers."
   ]
  },
  {
   "cell_type": "code",
   "execution_count": 63,
   "metadata": {
    "id": "64SUsh1cbDUJ"
   },
   "outputs": [
    {
     "name": "stdout",
     "output_type": "stream",
     "text": [
      "[5, 17, 19, 7, 45]\n"
     ]
    }
   ],
   "source": [
    "list_numbers = [5, 4, 17, 19, 30, 2, 7, 10, 45]\n",
    "\n",
    "odd_numbers = [x for x in list_numbers if (lambda x: x % 2 != 0)(x)] \n",
    "\n",
    "print(odd_numbers)"
   ]
  }
 ],
 "metadata": {
  "colab": {
   "provenance": []
  },
  "kernelspec": {
   "display_name": "Python 3 (ipykernel)",
   "language": "python",
   "name": "python3"
  },
  "language_info": {
   "codemirror_mode": {
    "name": "ipython",
    "version": 3
   },
   "file_extension": ".py",
   "mimetype": "text/x-python",
   "name": "python",
   "nbconvert_exporter": "python",
   "pygments_lexer": "ipython3",
   "version": "3.12.4"
  }
 },
 "nbformat": 4,
 "nbformat_minor": 4
}
