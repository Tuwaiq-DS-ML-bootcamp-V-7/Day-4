{
 "cells": [
  {
   "cell_type": "markdown",
   "metadata": {
    "id": "E9Y5ss1ZYj3r"
   },
   "source": [
    "# Python_Lab_2.2\n"
   ]
  },
  {
   "cell_type": "markdown",
   "metadata": {
    "id": "Q1kAqc72Yj3t"
   },
   "source": [
    "### Task 1\n",
    "1. Write a program that prompts the user to enter two numbers and prints their division. Handle cases where the user enters non-numeric values or attempts to divide by zero using a try-except block.\n"
   ]
  },
  {
   "cell_type": "code",
   "execution_count": 19,
   "metadata": {
    "id": "H-xyoRTVYj3t"
   },
   "outputs": [
    {
     "name": "stdin",
     "output_type": "stream",
     "text": [
      "Enter the first number:  5\n",
      "Enter the second number:  0\n"
     ]
    },
    {
     "name": "stdout",
     "output_type": "stream",
     "text": [
      "Error: Division by zero is not allowed.\n",
      "Your operation is completed.\n"
     ]
    }
   ],
   "source": [
    "def divide_numbers():\n",
    "    try:\n",
    "        num1 = float(input(\"Enter the first number: \"))\n",
    "        num2 = float(input(\"Enter the second number: \"))\n",
    "        \n",
    "        result = num1 / num2\n",
    "        \n",
    "    except ValueError:\n",
    "        \n",
    "        print(\"Invalid input. Please enter numeric values only.\")\n",
    "        \n",
    "    except ZeroDivisionError:\n",
    "        \n",
    "        print(\"Error: Division by zero is not allowed.\")\n",
    "        \n",
    "    else:\n",
    "        \n",
    "        print(\"The result of the division is %d:\" , result)\n",
    "        \n",
    "    finally:\n",
    "        \n",
    "        print(\"Your operation is completed.\")\n",
    "\n",
    "\n",
    "divide_numbers()\n"
   ]
  },
  {
   "cell_type": "markdown",
   "metadata": {
    "id": "CPWcDSC_Yj3u"
   },
   "source": [
    "### Task 2\n",
    "- Use \"Random\" library to do the following:\n",
    "    1. Create a list of random numbers using list comprehension.\n",
    "    2. Create a list of squares of the even numbers from random numbers using list comprehension.\n",
    "    3. Create a list of tuples (number, square) for random numbers using list comprehension."
   ]
  },
  {
   "cell_type": "code",
   "execution_count": 29,
   "metadata": {
    "id": "Yfq-i6CeYj3u"
   },
   "outputs": [
    {
     "name": "stdout",
     "output_type": "stream",
     "text": [
      "Random numbers: [14, 42, 45, 17, 13, 34, 95, 83, 74, 93]\n",
      "Squares of even numbers: [196, 1764, 1156, 5476]\n",
      "List of tuples (number, square): [(14, 196), (42, 1764), (45, 2025), (17, 289), (13, 169), (34, 1156), (95, 9025), (83, 6889), (74, 5476), (93, 8649)]\n"
     ]
    }
   ],
   "source": [
    "import random\n",
    "\n",
    "#Create a list of random numbers using list comprehension.\n",
    "random_numbers = [random.randint(1, 100) for _ in range(10)]\n",
    "print(\"Random numbers:\", random_numbers)\n",
    "\n",
    "#Create a list of squares of the even numbers from random numbers using list comprehension.\n",
    "squares = [x**2 for x in random_numbers if x % 2 == 0]\n",
    "print(\"Squares of even numbers:\", squares)\n",
    "\n",
    "#Create a list of tuples (number, square) for random numbers using list comprehension.\n",
    "square_tuple = [(x, x**2) for x in random_numbers]\n",
    "print(\"List of tuples (number, square):\", square_tuple)\n"
   ]
  },
  {
   "cell_type": "markdown",
   "metadata": {
    "id": "jYdOq46NYj3u"
   },
   "source": [
    "### Task 3\n",
    "- Create a dictionary where the keys are numbers from 1 to 5 and the values are list of their squares and cubes.\n",
    "\n",
    "  - **hint**: use dictionary of list comprehension.\n",
    "\n",
    "- Create a dictionary from two lists (one with keys and one with values) using dictionary comprehension.\n",
    "\n"
   ]
  },
  {
   "cell_type": "code",
   "execution_count": 9,
   "metadata": {
    "id": "IEnsiNmCYj3u"
   },
   "outputs": [
    {
     "name": "stdout",
     "output_type": "stream",
     "text": [
      "Dictionary of squares and cubes: {1: [1, 1], 2: [4, 8], 3: [9, 27], 4: [16, 64], 5: [25, 125]}\n",
      "Dictionary from lists: {'key1': 1, 'key2': 2, 'key3': 3, 'key4': 4, 'key5': 5}\n"
     ]
    }
   ],
   "source": [
    "numbers_dictionary = {x: [x**2, x**3] for x in range(1, 6)}\n",
    "print(\"Dictionary of squares and cubes:\", numbers_dictionary)\n",
    "\n",
    "\n",
    "#Create a dictionary from two lists (one with keys and one with values) using dictionary comprehension.\n",
    "keys = ['key1', 'key2', 'key3', 'key4', 'key5']\n",
    "values = [1, 2, 3, 4, 5]\n",
    "\n",
    "dictionary_ = {k: v for k, v in zip(keys, values)}\n",
    "print(\"Dictionary from lists:\", dictionary_)"
   ]
  },
  {
   "cell_type": "markdown",
   "metadata": {
    "id": "6T9TCQ8SYj3v"
   },
   "source": [
    "### Task 4\n",
    "- Given a dictionary where keys are student names and values are lists of their scores, write a function that updates the scores of students who have achieved a perfect score (100) by adding a bonus of 5 points to each score. Use dictionary comprehension to achieve this.\n",
    "\n",
    "    - Implement the function add_bonus_to_perfect_scores(student_scores) that adds a bonus of 5 points to each score of students who have achieved a perfect score (100)."
   ]
  },
  {
   "cell_type": "code",
   "execution_count": 25,
   "metadata": {
    "id": "T3R_VsQpYj3v"
   },
   "outputs": [
    {
     "name": "stdout",
     "output_type": "stream",
     "text": [
      "{'Almas': [99, 105, 98], 'Alma': [78, 80, 95], 'Amjad': [105, 89, 94]}\n"
     ]
    }
   ],
   "source": [
    "#Given a dictionary where keys are student names and values are lists of their scores, write a function that updates the scores of students who have achieved a perfect score (100) by adding a bonus of 5 points to each score. Use dictionary comprehension to achieve this.\n",
    "student_scores = {\n",
    "    \"Almas\": [99, 100, 98],\n",
    "    \"Alma\": [78, 80, 95],\n",
    "    \"Amjad\": [100, 89, 94],\n",
    "}\n",
    "\n",
    "def add_bonus_to_perfect_score(student_scores):\n",
    "    updated_scores = {\n",
    "        student: [score + 5 if score == 100 else score for score in scores]\n",
    "        for student, scores in student_scores.items()\n",
    "    }\n",
    "    return updated_scores\n",
    "\n",
    "new_scores = add_bonus_to_perfect_score(student_scores)\n",
    "print(new_scores)"
   ]
  },
  {
   "cell_type": "code",
   "execution_count": 27,
   "metadata": {},
   "outputs": [
    {
     "name": "stdout",
     "output_type": "stream",
     "text": [
      "{'Almas': [104, 105, 103], 'Alma': [78, 80, 95], 'Amjad': [105, 94, 99]}\n"
     ]
    }
   ],
   "source": [
    "student_scores = {\n",
    "    \"Almas\": [99, 100, 98],\n",
    "    \"Alma\": [78, 80, 95],\n",
    "    \"Amjad\": [100, 89, 94] }\n",
    "\n",
    "def add_bonus_to_perfect_score(student_scores):\n",
    "    updated_scores = {\n",
    "        student: [score + 5 for score in scores] if 100 in scores else scores\n",
    "        for student, scores in student_scores.items() }\n",
    "    return updated_scores\n",
    "\n",
    "\n",
    "updated_student_scores = add_bonus_to_perfect_score(student_scores)\n",
    "\n",
    "print(updated_student_scores)\n"
   ]
  }
 ],
 "metadata": {
  "colab": {
   "provenance": []
  },
  "kernelspec": {
   "display_name": "Python 3 (ipykernel)",
   "language": "python",
   "name": "python3"
  },
  "language_info": {
   "codemirror_mode": {
    "name": "ipython",
    "version": 3
   },
   "file_extension": ".py",
   "mimetype": "text/x-python",
   "name": "python",
   "nbconvert_exporter": "python",
   "pygments_lexer": "ipython3",
   "version": "3.12.4"
  }
 },
 "nbformat": 4,
 "nbformat_minor": 4
}
