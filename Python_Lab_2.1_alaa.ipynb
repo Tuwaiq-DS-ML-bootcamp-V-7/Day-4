{
 "cells": [
  {
   "cell_type": "markdown",
   "metadata": {
    "id": "x7F-mxeubDUG"
   },
   "source": [
    "# Python_Lab_2.1\n"
   ]
  },
  {
   "cell_type": "markdown",
   "metadata": {
    "id": "14c6Hn1BbDUH"
   },
   "source": [
    "### Task 1\n",
    "1. Write a function named is_prime that takes a number as a parameter and returns True if the number is prime and False otherwise. Print whether the number 29 is prime."
   ]
  },
  {
   "cell_type": "code",
   "execution_count": 11,
   "metadata": {
    "id": "5e_MZEN0bDUI"
   },
   "outputs": [
    {
     "data": {
      "text/plain": [
       "True"
      ]
     },
     "execution_count": 11,
     "metadata": {},
     "output_type": "execute_result"
    }
   ],
   "source": [
    "\n",
    "def is_prime (number):\n",
    "  for i in range(2,number):\n",
    "      if number % i !=0:\n",
    "         return True\n",
    "  else:\n",
    "      return False\n",
    "\n",
    "is_prime(29)"
   ]
  },
  {
   "cell_type": "markdown",
   "metadata": {
    "id": "2zKG8ZcybDUI"
   },
   "source": [
    "### Task 2\n",
    "1. Create a list of 10 numbers and sort them in descending order using the sort() function.\n",
    "2. Use the len() function to print the length of the sorted list.\n",
    "3. Use the zip() function to combine three lists (names, ages, and cities) into a list of tuples.\n",
    "4. Use the range() function to create a list of even numbers from 2 to 20 and print the list."
   ]
  },
  {
   "cell_type": "code",
   "execution_count": 13,
   "metadata": {
    "id": "yyoe__M_bDUI"
   },
   "outputs": [
    {
     "name": "stdout",
     "output_type": "stream",
     "text": [
      "[100, 67, 50, 44, 30, 29, 28, 19, 12, 11]\n",
      "10\n"
     ]
    }
   ],
   "source": [
    "list_number =[12,19,30,100,50,28,44,29,11,67]\n",
    "list_number.sort(reverse=True)\n",
    "print(list_number)\n",
    "print(len(list_number))"
   ]
  },
  {
   "cell_type": "code",
   "execution_count": 14,
   "metadata": {},
   "outputs": [
    {
     "name": "stdout",
     "output_type": "stream",
     "text": [
      "[('Alaa', 23, 'Almadinah'), ('Elaf', 25, 'Jeddah'), ('Eman', 40, 'Riyadh'), ('Esraa', 21, 'Alqaseem')]\n"
     ]
    }
   ],
   "source": [
    "names_list=[\"Alaa\",\"Elaf\",\"Eman\",\"Esraa\"]\n",
    "ages_list=[23,25,40,21]\n",
    "cities_list=[\"Almadinah\",\"Jeddah\",\"Riyadh\",\"Alqaseem\"]\n",
    "\n",
    "combination_list=list(zip(names_list,ages_list,cities_list))\n",
    "print(combination_list)"
   ]
  },
  {
   "cell_type": "code",
   "execution_count": 15,
   "metadata": {},
   "outputs": [
    {
     "name": "stdout",
     "output_type": "stream",
     "text": [
      "[2, 4, 6, 8, 10, 12, 14, 16, 18, 20]\n"
     ]
    }
   ],
   "source": [
    "even_list=[]\n",
    "for i in range(2,21):\n",
    "    if i % 2 ==0:\n",
    "        even_list.append(i)\n",
    "\n",
    "print(even_list)\n",
    "        \n",
    "        "
   ]
  },
  {
   "cell_type": "markdown",
   "metadata": {
    "id": "aStW5p7AbDUI"
   },
   "source": [
    "### Task 3\n",
    "Build a phone book program that receives the phone number, and returns the name of the owner.\n",
    "You can follow the table below:\n",
    "\n",
    "| Name     | Number     |\n",
    "| -------- | ---------- |\n",
    "| Amal     | 1111111111 |\n",
    "| Mohammed | 2222222222 |\n",
    "| Khadijah | 3333333333 |\n",
    "| Abdullah | 4444444444 |\n",
    "| Rawan    | 5555555555 |\n",
    "| Faisal   | 6666666666 |\n",
    "| Layla    | 7777777777 |\n",
    "\n",
    "- If the number exists, print the owner. Otherwise, print \"Sorry, the number is not found\".\n",
    "- If the number is less or more than 10 numbers, print \"This is invalid number\".\n",
    "- If the number contains letters or symbols, print \"This is invalid number\".\n"
   ]
  },
  {
   "cell_type": "code",
   "execution_count": 21,
   "metadata": {
    "id": "kvXmjUe-bDUJ"
   },
   "outputs": [
    {
     "name": "stdin",
     "output_type": "stream",
     "text": [
      "Enter the phone number please:  7777777777\n"
     ]
    },
    {
     "name": "stdout",
     "output_type": "stream",
     "text": [
      "Layla\n"
     ]
    }
   ],
   "source": [
    "phone_book={\n",
    "    \"Amal\":1111111111,\n",
    "    \"Mohammed\":2222222222,\n",
    "    \"Khadijah\":3333333333,\n",
    "    \"Abdullah\":4444444444,\n",
    "    \"Rawan\":5555555555,\n",
    "    \"Faisal\":6666666666,\n",
    "    \"Layla\":7777777777  \n",
    "}\n",
    "\n",
    "def phoneBooke_function(phone_number):\n",
    "    if len(phone_number) != 10 or not phone_number.isdigit():\n",
    "        return \"This is invalid number\"\n",
    "\n",
    "    phone_number = int(phone_number)\n",
    "        \n",
    "    for name, number in phone_book.items():\n",
    "        if number == phone_number:\n",
    "            return name  \n",
    "    \n",
    "    return \"Sorry, the number is not found\"\n",
    "\n",
    "phone_number = input(\"Enter the phone number please: \")\n",
    "print(phoneBooke_function(phone_number))\n",
    "    \n",
    "\n",
    "    \n",
    "    \n",
    "\n"
   ]
  },
  {
   "cell_type": "markdown",
   "metadata": {
    "id": "exLHQ28nbDUJ"
   },
   "source": [
    "### Task 4\n",
    "- Given the following list : [5, 4, 17, 19, 30, 2, 7, 10, 45]\n",
    "    1. Use a lambda function to filter out only the odd numbers.\n",
    "    2. Print the new list of odd numbers."
   ]
  },
  {
   "cell_type": "code",
   "execution_count": 23,
   "metadata": {
    "id": "64SUsh1cbDUJ"
   },
   "outputs": [
    {
     "name": "stdout",
     "output_type": "stream",
     "text": [
      "[5, 17, 19, 7, 45]\n"
     ]
    }
   ],
   "source": [
    "my_list=[5,4,17,19,30,2,7,10,45]\n",
    "my_list2=[]\n",
    "\n",
    "x=lambda num:num % 2 !=0\n",
    "\n",
    "for i in my_list:\n",
    "    if x(i):\n",
    "        my_list2.append(i)\n",
    "\n",
    "\n",
    "print(my_list2)\n",
    "      \n",
    "        \n",
    "    \n",
    "\n"
   ]
  }
 ],
 "metadata": {
  "colab": {
   "provenance": []
  },
  "kernelspec": {
   "display_name": "Python 3 (ipykernel)",
   "language": "python",
   "name": "python3"
  },
  "language_info": {
   "codemirror_mode": {
    "name": "ipython",
    "version": 3
   },
   "file_extension": ".py",
   "mimetype": "text/x-python",
   "name": "python",
   "nbconvert_exporter": "python",
   "pygments_lexer": "ipython3",
   "version": "3.12.4"
  }
 },
 "nbformat": 4,
 "nbformat_minor": 4
}
